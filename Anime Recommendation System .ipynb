{
 "cells": [
  {
   "cell_type": "code",
   "execution_count": 1,
   "id": "79c3755c",
   "metadata": {},
   "outputs": [
    {
     "data": {
      "text/html": [
       "<div>\n",
       "<style scoped>\n",
       "    .dataframe tbody tr th:only-of-type {\n",
       "        vertical-align: middle;\n",
       "    }\n",
       "\n",
       "    .dataframe tbody tr th {\n",
       "        vertical-align: top;\n",
       "    }\n",
       "\n",
       "    .dataframe thead th {\n",
       "        text-align: right;\n",
       "    }\n",
       "</style>\n",
       "<table border=\"1\" class=\"dataframe\">\n",
       "  <thead>\n",
       "    <tr style=\"text-align: right;\">\n",
       "      <th></th>\n",
       "      <th>title</th>\n",
       "      <th>episodes</th>\n",
       "      <th>status</th>\n",
       "      <th>theme</th>\n",
       "      <th>demographic</th>\n",
       "      <th>genres</th>\n",
       "      <th>type</th>\n",
       "      <th>favorites</th>\n",
       "      <th>popularity</th>\n",
       "      <th>rank</th>\n",
       "      <th>score</th>\n",
       "      <th>members</th>\n",
       "      <th>synopsis</th>\n",
       "      <th>aired</th>\n",
       "      <th>duration</th>\n",
       "      <th>premiered</th>\n",
       "      <th>studios</th>\n",
       "    </tr>\n",
       "  </thead>\n",
       "  <tbody>\n",
       "    <tr>\n",
       "      <th>0</th>\n",
       "      <td>Fullmetal Alchemist: Brotherhood</td>\n",
       "      <td>64</td>\n",
       "      <td>Finished Airing</td>\n",
       "      <td>Military</td>\n",
       "      <td>Shounen</td>\n",
       "      <td>Action,Adventure,Drama,Fantasy,</td>\n",
       "      <td>TV</td>\n",
       "      <td>218,277</td>\n",
       "      <td>#3</td>\n",
       "      <td>#1</td>\n",
       "      <td>9.10</td>\n",
       "      <td>3,190,961</td>\n",
       "      <td>After a horrific alchemy experiment goes wrong...</td>\n",
       "      <td>Apr 5, 2009 to Jul 4, 2010</td>\n",
       "      <td>24 min. per ep.</td>\n",
       "      <td>Spring 2009</td>\n",
       "      <td>Bones</td>\n",
       "    </tr>\n",
       "    <tr>\n",
       "      <th>1</th>\n",
       "      <td>Steins;Gate</td>\n",
       "      <td>24</td>\n",
       "      <td>Finished Airing</td>\n",
       "      <td>Unknown</td>\n",
       "      <td>Unknown</td>\n",
       "      <td>Drama,Sci-Fi,Suspense,</td>\n",
       "      <td>TV</td>\n",
       "      <td>183,596</td>\n",
       "      <td>#13</td>\n",
       "      <td>#2</td>\n",
       "      <td>9.07</td>\n",
       "      <td>2,452,142</td>\n",
       "      <td>Eccentric scientist Rintarou Okabe has a never...</td>\n",
       "      <td>Apr 6, 2011 to Sep 14, 2011</td>\n",
       "      <td>24 min. per ep.</td>\n",
       "      <td>Spring 2011</td>\n",
       "      <td>White Fox</td>\n",
       "    </tr>\n",
       "    <tr>\n",
       "      <th>2</th>\n",
       "      <td>Bleach: Sennen Kessen-hen</td>\n",
       "      <td>13</td>\n",
       "      <td>Finished Airing</td>\n",
       "      <td>Unknown</td>\n",
       "      <td>Shounen</td>\n",
       "      <td>Action,Adventure,Fantasy,</td>\n",
       "      <td>TV</td>\n",
       "      <td>18,421</td>\n",
       "      <td>#458</td>\n",
       "      <td>#3</td>\n",
       "      <td>9.06</td>\n",
       "      <td>455,428</td>\n",
       "      <td>Substitute Soul Reaper Ichigo Kurosaki spends ...</td>\n",
       "      <td>Oct 11, 2022 to Dec 27, 2022</td>\n",
       "      <td>24 min. per ep.</td>\n",
       "      <td>Fall 2022</td>\n",
       "      <td>Pierrot</td>\n",
       "    </tr>\n",
       "    <tr>\n",
       "      <th>3</th>\n",
       "      <td>Gintama°</td>\n",
       "      <td>51</td>\n",
       "      <td>Finished Airing</td>\n",
       "      <td>Unknown</td>\n",
       "      <td>Shounen</td>\n",
       "      <td>Action,Comedy,Sci-Fi,</td>\n",
       "      <td>TV</td>\n",
       "      <td>16,042</td>\n",
       "      <td>#332</td>\n",
       "      <td>#4</td>\n",
       "      <td>9.06</td>\n",
       "      <td>599,235</td>\n",
       "      <td>Gintoki, Shinpachi, and Kagura return as the f...</td>\n",
       "      <td>Apr 8, 2015 to Mar 30, 2016</td>\n",
       "      <td>24 min. per ep.</td>\n",
       "      <td>Spring 2015</td>\n",
       "      <td>Bandai Namco Pictures</td>\n",
       "    </tr>\n",
       "    <tr>\n",
       "      <th>4</th>\n",
       "      <td>Kaguya-sama wa Kokurasetai: Ultra Romantic</td>\n",
       "      <td>13</td>\n",
       "      <td>Finished Airing</td>\n",
       "      <td>School</td>\n",
       "      <td>Seinen</td>\n",
       "      <td>Comedy,Romance,</td>\n",
       "      <td>TV</td>\n",
       "      <td>29,397</td>\n",
       "      <td>#193</td>\n",
       "      <td>#5</td>\n",
       "      <td>9.05</td>\n",
       "      <td>832,346</td>\n",
       "      <td>The elite members of Shuchiin Academy's studen...</td>\n",
       "      <td>Apr 9, 2022 to Jun 25, 2022</td>\n",
       "      <td>23 min. per ep.</td>\n",
       "      <td>Spring 2022</td>\n",
       "      <td>A-1 Pictures</td>\n",
       "    </tr>\n",
       "  </tbody>\n",
       "</table>\n",
       "</div>"
      ],
      "text/plain": [
       "                                        title episodes           status  \\\n",
       "0            Fullmetal Alchemist: Brotherhood       64  Finished Airing   \n",
       "1                                 Steins;Gate       24  Finished Airing   \n",
       "2                   Bleach: Sennen Kessen-hen       13  Finished Airing   \n",
       "3                                    Gintama°       51  Finished Airing   \n",
       "4  Kaguya-sama wa Kokurasetai: Ultra Romantic       13  Finished Airing   \n",
       "\n",
       "      theme demographic                           genres type favorites  \\\n",
       "0  Military     Shounen  Action,Adventure,Drama,Fantasy,   TV   218,277   \n",
       "1   Unknown     Unknown           Drama,Sci-Fi,Suspense,   TV   183,596   \n",
       "2   Unknown     Shounen        Action,Adventure,Fantasy,   TV    18,421   \n",
       "3   Unknown     Shounen            Action,Comedy,Sci-Fi,   TV    16,042   \n",
       "4    School      Seinen                  Comedy,Romance,   TV    29,397   \n",
       "\n",
       "  popularity rank  score    members  \\\n",
       "0         #3   #1   9.10  3,190,961   \n",
       "1        #13   #2   9.07  2,452,142   \n",
       "2       #458   #3   9.06    455,428   \n",
       "3       #332   #4   9.06    599,235   \n",
       "4       #193   #5   9.05    832,346   \n",
       "\n",
       "                                            synopsis  \\\n",
       "0  After a horrific alchemy experiment goes wrong...   \n",
       "1  Eccentric scientist Rintarou Okabe has a never...   \n",
       "2  Substitute Soul Reaper Ichigo Kurosaki spends ...   \n",
       "3  Gintoki, Shinpachi, and Kagura return as the f...   \n",
       "4  The elite members of Shuchiin Academy's studen...   \n",
       "\n",
       "                          aired         duration    premiered  \\\n",
       "0    Apr 5, 2009 to Jul 4, 2010  24 min. per ep.  Spring 2009   \n",
       "1   Apr 6, 2011 to Sep 14, 2011  24 min. per ep.  Spring 2011   \n",
       "2  Oct 11, 2022 to Dec 27, 2022  24 min. per ep.    Fall 2022   \n",
       "3   Apr 8, 2015 to Mar 30, 2016  24 min. per ep.  Spring 2015   \n",
       "4   Apr 9, 2022 to Jun 25, 2022  23 min. per ep.  Spring 2022   \n",
       "\n",
       "                 studios  \n",
       "0                  Bones  \n",
       "1              White Fox  \n",
       "2                Pierrot  \n",
       "3  Bandai Namco Pictures  \n",
       "4           A-1 Pictures  "
      ]
     },
     "execution_count": 1,
     "metadata": {},
     "output_type": "execute_result"
    }
   ],
   "source": [
    "import pandas as pd\n",
    "original_df = pd.read_csv('anime.csv')\n",
    "original_df.head(5)"
   ]
  },
  {
   "cell_type": "code",
   "execution_count": 2,
   "id": "556c262b",
   "metadata": {},
   "outputs": [],
   "source": [
    "anime=original_df.copy()"
   ]
  },
  {
   "cell_type": "code",
   "execution_count": 3,
   "id": "1e0c1dae",
   "metadata": {},
   "outputs": [],
   "source": [
    "columns_to_drop = ['episodes', 'status', 'rank','aired','duration','premiered']\n",
    "anime.drop(columns=columns_to_drop, inplace=True)"
   ]
  },
  {
   "cell_type": "code",
   "execution_count": 4,
   "id": "51e5eb71",
   "metadata": {},
   "outputs": [],
   "source": [
    "def remove_spaces(input_string):\n",
    "    single_word = \"\".join(input_string.split())\n",
    "    return single_word"
   ]
  },
  {
   "cell_type": "code",
   "execution_count": 5,
   "id": "46b99cc8",
   "metadata": {},
   "outputs": [],
   "source": [
    "title=anime['title'].apply(remove_spaces)\n",
    "\n",
    "anime['theme']=anime['theme'].apply(remove_spaces)\n",
    "\n",
    "anime['studios']=anime['studios'].apply(remove_spaces)"
   ]
  },
  {
   "cell_type": "code",
   "execution_count": 6,
   "id": "646aca94",
   "metadata": {},
   "outputs": [],
   "source": [
    "def remove_commas_add_spaces(text):\n",
    "    return text.replace(',', ' ')"
   ]
  },
  {
   "cell_type": "code",
   "execution_count": 7,
   "id": "6da61383",
   "metadata": {},
   "outputs": [],
   "source": [
    "anime['genres']=anime['genres'].apply(remove_commas_add_spaces)"
   ]
  },
  {
   "cell_type": "code",
   "execution_count": 8,
   "id": "c3ba09ea",
   "metadata": {},
   "outputs": [
    {
     "data": {
      "text/html": [
       "<div>\n",
       "<style scoped>\n",
       "    .dataframe tbody tr th:only-of-type {\n",
       "        vertical-align: middle;\n",
       "    }\n",
       "\n",
       "    .dataframe tbody tr th {\n",
       "        vertical-align: top;\n",
       "    }\n",
       "\n",
       "    .dataframe thead th {\n",
       "        text-align: right;\n",
       "    }\n",
       "</style>\n",
       "<table border=\"1\" class=\"dataframe\">\n",
       "  <thead>\n",
       "    <tr style=\"text-align: right;\">\n",
       "      <th></th>\n",
       "      <th>title</th>\n",
       "      <th>theme</th>\n",
       "      <th>demographic</th>\n",
       "      <th>genres</th>\n",
       "      <th>type</th>\n",
       "      <th>favorites</th>\n",
       "      <th>popularity</th>\n",
       "      <th>score</th>\n",
       "      <th>members</th>\n",
       "      <th>synopsis</th>\n",
       "      <th>studios</th>\n",
       "    </tr>\n",
       "  </thead>\n",
       "  <tbody>\n",
       "    <tr>\n",
       "      <th>0</th>\n",
       "      <td>Fullmetal Alchemist: Brotherhood</td>\n",
       "      <td>Military</td>\n",
       "      <td>Shounen</td>\n",
       "      <td>Action Adventure Drama Fantasy</td>\n",
       "      <td>TV</td>\n",
       "      <td>218,277</td>\n",
       "      <td>#3</td>\n",
       "      <td>9.10</td>\n",
       "      <td>3,190,961</td>\n",
       "      <td>After a horrific alchemy experiment goes wrong...</td>\n",
       "      <td>Bones</td>\n",
       "    </tr>\n",
       "    <tr>\n",
       "      <th>1</th>\n",
       "      <td>Steins;Gate</td>\n",
       "      <td>Unknown</td>\n",
       "      <td>Unknown</td>\n",
       "      <td>Drama Sci-Fi Suspense</td>\n",
       "      <td>TV</td>\n",
       "      <td>183,596</td>\n",
       "      <td>#13</td>\n",
       "      <td>9.07</td>\n",
       "      <td>2,452,142</td>\n",
       "      <td>Eccentric scientist Rintarou Okabe has a never...</td>\n",
       "      <td>WhiteFox</td>\n",
       "    </tr>\n",
       "    <tr>\n",
       "      <th>2</th>\n",
       "      <td>Bleach: Sennen Kessen-hen</td>\n",
       "      <td>Unknown</td>\n",
       "      <td>Shounen</td>\n",
       "      <td>Action Adventure Fantasy</td>\n",
       "      <td>TV</td>\n",
       "      <td>18,421</td>\n",
       "      <td>#458</td>\n",
       "      <td>9.06</td>\n",
       "      <td>455,428</td>\n",
       "      <td>Substitute Soul Reaper Ichigo Kurosaki spends ...</td>\n",
       "      <td>Pierrot</td>\n",
       "    </tr>\n",
       "    <tr>\n",
       "      <th>3</th>\n",
       "      <td>Gintama°</td>\n",
       "      <td>Unknown</td>\n",
       "      <td>Shounen</td>\n",
       "      <td>Action Comedy Sci-Fi</td>\n",
       "      <td>TV</td>\n",
       "      <td>16,042</td>\n",
       "      <td>#332</td>\n",
       "      <td>9.06</td>\n",
       "      <td>599,235</td>\n",
       "      <td>Gintoki, Shinpachi, and Kagura return as the f...</td>\n",
       "      <td>BandaiNamcoPictures</td>\n",
       "    </tr>\n",
       "    <tr>\n",
       "      <th>4</th>\n",
       "      <td>Kaguya-sama wa Kokurasetai: Ultra Romantic</td>\n",
       "      <td>School</td>\n",
       "      <td>Seinen</td>\n",
       "      <td>Comedy Romance</td>\n",
       "      <td>TV</td>\n",
       "      <td>29,397</td>\n",
       "      <td>#193</td>\n",
       "      <td>9.05</td>\n",
       "      <td>832,346</td>\n",
       "      <td>The elite members of Shuchiin Academy's studen...</td>\n",
       "      <td>A-1Pictures</td>\n",
       "    </tr>\n",
       "    <tr>\n",
       "      <th>5</th>\n",
       "      <td>Shingeki no Kyojin Season 3 Part 2</td>\n",
       "      <td>Unknown</td>\n",
       "      <td>Shounen</td>\n",
       "      <td>Action Drama</td>\n",
       "      <td>TV</td>\n",
       "      <td>55,387</td>\n",
       "      <td>#24</td>\n",
       "      <td>9.05</td>\n",
       "      <td>2,118,221</td>\n",
       "      <td>Seeking to restore humanity's diminishing hope...</td>\n",
       "      <td>WitStudio</td>\n",
       "    </tr>\n",
       "    <tr>\n",
       "      <th>6</th>\n",
       "      <td>Shingeki no Kyojin: The Final Season - Kankets...</td>\n",
       "      <td>Unknown</td>\n",
       "      <td>Shounen</td>\n",
       "      <td>Action Drama Suspense</td>\n",
       "      <td>Special</td>\n",
       "      <td>9,351</td>\n",
       "      <td>#465</td>\n",
       "      <td>9.04</td>\n",
       "      <td>449,149</td>\n",
       "      <td>In the wake of Eren Yeager's cataclysmic actio...</td>\n",
       "      <td>MAPPA</td>\n",
       "    </tr>\n",
       "    <tr>\n",
       "      <th>7</th>\n",
       "      <td>Gintama'</td>\n",
       "      <td>Unknown</td>\n",
       "      <td>Shounen</td>\n",
       "      <td>Action Comedy Sci-Fi</td>\n",
       "      <td>TV</td>\n",
       "      <td>7,801</td>\n",
       "      <td>#387</td>\n",
       "      <td>9.04</td>\n",
       "      <td>528,650</td>\n",
       "      <td>After a one-year hiatus, Shinpachi Shimura ret...</td>\n",
       "      <td>Sunrise</td>\n",
       "    </tr>\n",
       "    <tr>\n",
       "      <th>8</th>\n",
       "      <td>Gintama: The Final</td>\n",
       "      <td>Unknown</td>\n",
       "      <td>Shounen</td>\n",
       "      <td>Action Comedy Drama Sci-Fi</td>\n",
       "      <td>Movie</td>\n",
       "      <td>4,070</td>\n",
       "      <td>#1563</td>\n",
       "      <td>9.04</td>\n",
       "      <td>134,460</td>\n",
       "      <td>Two years have passed following the Tendoshuu'...</td>\n",
       "      <td>BandaiNamcoPictures</td>\n",
       "    </tr>\n",
       "    <tr>\n",
       "      <th>9</th>\n",
       "      <td>Hunter x Hunter (2011)</td>\n",
       "      <td>Unknown</td>\n",
       "      <td>Shounen</td>\n",
       "      <td>Action Adventure Fantasy</td>\n",
       "      <td>TV</td>\n",
       "      <td>201,103</td>\n",
       "      <td>#10</td>\n",
       "      <td>9.04</td>\n",
       "      <td>2,672,011</td>\n",
       "      <td>Hunters devote themselves to accomplishing haz...</td>\n",
       "      <td>Madhouse</td>\n",
       "    </tr>\n",
       "  </tbody>\n",
       "</table>\n",
       "</div>"
      ],
      "text/plain": [
       "                                               title     theme demographic  \\\n",
       "0                   Fullmetal Alchemist: Brotherhood  Military     Shounen   \n",
       "1                                        Steins;Gate   Unknown     Unknown   \n",
       "2                          Bleach: Sennen Kessen-hen   Unknown     Shounen   \n",
       "3                                           Gintama°   Unknown     Shounen   \n",
       "4         Kaguya-sama wa Kokurasetai: Ultra Romantic    School      Seinen   \n",
       "5                 Shingeki no Kyojin Season 3 Part 2   Unknown     Shounen   \n",
       "6  Shingeki no Kyojin: The Final Season - Kankets...   Unknown     Shounen   \n",
       "7                                           Gintama'   Unknown     Shounen   \n",
       "8                                 Gintama: The Final   Unknown     Shounen   \n",
       "9                             Hunter x Hunter (2011)   Unknown     Shounen   \n",
       "\n",
       "                            genres     type favorites popularity  score  \\\n",
       "0  Action Adventure Drama Fantasy        TV   218,277         #3   9.10   \n",
       "1           Drama Sci-Fi Suspense        TV   183,596        #13   9.07   \n",
       "2        Action Adventure Fantasy        TV    18,421       #458   9.06   \n",
       "3            Action Comedy Sci-Fi        TV    16,042       #332   9.06   \n",
       "4                  Comedy Romance        TV    29,397       #193   9.05   \n",
       "5                    Action Drama        TV    55,387        #24   9.05   \n",
       "6           Action Drama Suspense   Special     9,351       #465   9.04   \n",
       "7            Action Comedy Sci-Fi        TV     7,801       #387   9.04   \n",
       "8      Action Comedy Drama Sci-Fi     Movie     4,070      #1563   9.04   \n",
       "9        Action Adventure Fantasy        TV   201,103        #10   9.04   \n",
       "\n",
       "     members                                           synopsis  \\\n",
       "0  3,190,961  After a horrific alchemy experiment goes wrong...   \n",
       "1  2,452,142  Eccentric scientist Rintarou Okabe has a never...   \n",
       "2    455,428  Substitute Soul Reaper Ichigo Kurosaki spends ...   \n",
       "3    599,235  Gintoki, Shinpachi, and Kagura return as the f...   \n",
       "4    832,346  The elite members of Shuchiin Academy's studen...   \n",
       "5  2,118,221  Seeking to restore humanity's diminishing hope...   \n",
       "6    449,149  In the wake of Eren Yeager's cataclysmic actio...   \n",
       "7    528,650  After a one-year hiatus, Shinpachi Shimura ret...   \n",
       "8    134,460  Two years have passed following the Tendoshuu'...   \n",
       "9  2,672,011  Hunters devote themselves to accomplishing haz...   \n",
       "\n",
       "               studios  \n",
       "0                Bones  \n",
       "1             WhiteFox  \n",
       "2              Pierrot  \n",
       "3  BandaiNamcoPictures  \n",
       "4          A-1Pictures  \n",
       "5            WitStudio  \n",
       "6                MAPPA  \n",
       "7              Sunrise  \n",
       "8  BandaiNamcoPictures  \n",
       "9             Madhouse  "
      ]
     },
     "execution_count": 8,
     "metadata": {},
     "output_type": "execute_result"
    }
   ],
   "source": [
    "anime.head(10)"
   ]
  },
  {
   "cell_type": "code",
   "execution_count": 9,
   "id": "32bb53d6",
   "metadata": {},
   "outputs": [],
   "source": [
    "def remove_words(text, words_to_remove):\n",
    "    for word in words_to_remove:\n",
    "        text = text.replace(word, '')\n",
    "    return text\n",
    "\n",
    "words_to_remove = ['\\n\\r\\n[Written by MAL Rewrite]','\\n\\r\\n']\n",
    "\n",
    "anime['synopsis'] = anime['synopsis'].apply(lambda x: remove_words(x, words_to_remove))"
   ]
  },
  {
   "cell_type": "code",
   "execution_count": 10,
   "id": "fb29da8b",
   "metadata": {},
   "outputs": [],
   "source": [
    "import re\n",
    "import nltk\n",
    "from nltk.corpus import stopwords\n",
    "from nltk.tokenize import word_tokenize\n",
    "from nltk.stem import WordNetLemmatizer"
   ]
  },
  {
   "cell_type": "code",
   "execution_count": 11,
   "id": "6c32b770",
   "metadata": {},
   "outputs": [],
   "source": [
    "def preprocess_text(text):\n",
    "    text = text.lower()\n",
    "    \n",
    "    tokens = word_tokenize(text)\n",
    "    \n",
    "    tokens = [re.sub(r'[^a-zA-Z\\s]', '', token) for token in tokens]\n",
    "    \n",
    "    stop_words = set(stopwords.words('english'))\n",
    "    tokens = [token for token in tokens if token not in stop_words]\n",
    "    \n",
    "    lemmatizer = WordNetLemmatizer()\n",
    "    tokens = [lemmatizer.lemmatize(token) for token in tokens]\n",
    "    \n",
    "    preprocessed_text = ' '.join(tokens)\n",
    "    \n",
    "    return preprocessed_text"
   ]
  },
  {
   "cell_type": "code",
   "execution_count": 12,
   "id": "0fabbb5b",
   "metadata": {},
   "outputs": [],
   "source": [
    "anime['synopsis'] = anime['synopsis'].apply(preprocess_text)"
   ]
  },
  {
   "cell_type": "code",
   "execution_count": 13,
   "id": "4d6985a4",
   "metadata": {},
   "outputs": [],
   "source": [
    "anime['tags']=title+\" \"+anime['theme']+\" \"+anime['demographic']+\" \"+anime['genres']+\" \"+anime['type']+\" \"+anime['synopsis']+\" \"+anime['studios']"
   ]
  },
  {
   "cell_type": "code",
   "execution_count": 14,
   "id": "dcb232e6",
   "metadata": {},
   "outputs": [
    {
     "data": {
      "text/plain": [
       "'Steins;Gate Unknown Unknown Drama Sci-Fi Suspense  TV eccentric scientist rintarou okabe neverending thirst scientific exploration  together ditzy wellmeaning friend mayuri shiina roommate itaru hashida  rintarou found future gadget laboratory hope creating technological innovation baffle human psyche  despite claim grandeur  notable  gadget  trio created microwave mystifying power turn banana green goohowever  rintarou decides attend neuroscientist kurisu makise conference time travel  experience series strange event lead believe  phone microwave  gadget meet eye  apparently able send text message past using microwave  rintarou dabbles  time machine   attracting ire attention mysterious organization serndue novel discovery  rintarou friend find everpresent danger  work mitigate damage invention caused timeline  fighting battle save loved one  also one degrading sanity  WhiteFox'"
      ]
     },
     "execution_count": 14,
     "metadata": {},
     "output_type": "execute_result"
    }
   ],
   "source": [
    "anime['tags'][1]"
   ]
  },
  {
   "cell_type": "code",
   "execution_count": 15,
   "id": "fa0a6f60",
   "metadata": {},
   "outputs": [],
   "source": [
    "anime['tags'] = anime['tags'].apply(lambda x:x.replace('Unknown ', ''))\n",
    "#remove double space\n",
    "anime['tags'] = anime['tags'].apply(lambda x: ' '.join(x.split()))"
   ]
  },
  {
   "cell_type": "code",
   "execution_count": 16,
   "id": "502841cd",
   "metadata": {},
   "outputs": [
    {
     "data": {
      "text/plain": [
       "'Steins;Gate Drama Sci-Fi Suspense TV eccentric scientist rintarou okabe neverending thirst scientific exploration together ditzy wellmeaning friend mayuri shiina roommate itaru hashida rintarou found future gadget laboratory hope creating technological innovation baffle human psyche despite claim grandeur notable gadget trio created microwave mystifying power turn banana green goohowever rintarou decides attend neuroscientist kurisu makise conference time travel experience series strange event lead believe phone microwave gadget meet eye apparently able send text message past using microwave rintarou dabbles time machine attracting ire attention mysterious organization serndue novel discovery rintarou friend find everpresent danger work mitigate damage invention caused timeline fighting battle save loved one also one degrading sanity WhiteFox'"
      ]
     },
     "execution_count": 16,
     "metadata": {},
     "output_type": "execute_result"
    }
   ],
   "source": [
    "anime['tags'][1]"
   ]
  },
  {
   "cell_type": "code",
   "execution_count": 17,
   "id": "28a4dbf8",
   "metadata": {},
   "outputs": [],
   "source": [
    "from sklearn.feature_extraction.text import TfidfVectorizer\n",
    "cv = TfidfVectorizer(max_features=10000,ngram_range=(1,2))"
   ]
  },
  {
   "cell_type": "code",
   "execution_count": 18,
   "id": "4ef17a2f",
   "metadata": {},
   "outputs": [
    {
     "data": {
      "text/plain": [
       "(23339, 10000)"
      ]
     },
     "execution_count": 18,
     "metadata": {},
     "output_type": "execute_result"
    }
   ],
   "source": [
    "vector = cv.fit_transform(anime['tags']).toarray()\n",
    "vector.shape"
   ]
  },
  {
   "cell_type": "code",
   "execution_count": null,
   "id": "6203e5e7",
   "metadata": {},
   "outputs": [],
   "source": [
    "from sklearn.metrics.pairwise import cosine_similarity\n",
    "similarity = cosine_similarity(vector)\n",
    "similarity.shape"
   ]
  },
  {
   "cell_type": "code",
   "execution_count": null,
   "id": "6b209cda",
   "metadata": {},
   "outputs": [],
   "source": [
    "anime[anime['title'] == 'Jujutsu Kaisen'].index[0]"
   ]
  },
  {
   "cell_type": "code",
   "execution_count": null,
   "id": "3661d5e9",
   "metadata": {},
   "outputs": [],
   "source": [
    "def content_recommendation(anime_title):\n",
    "    index = anime[anime['title'] == anime_title].index[0]\n",
    "    distances = sorted(list(enumerate(similarity[index])), reverse=True, key=lambda x: x[1])\n",
    "\n",
    "    print(\"Content-Based Recommendation \\n\")\n",
    "    for i, (anime_index, similarity_score) in zip(range(0, 10), distances[1:11]):\n",
    "        recommended_anime_title = anime.iloc[anime_index].title\n",
    "        print(f\"{i+1}. {recommended_anime_title}\")"
   ]
  },
  {
   "cell_type": "code",
   "execution_count": null,
   "id": "27eefe32",
   "metadata": {},
   "outputs": [],
   "source": [
    "content_recommendation('Fullmetal Alchemist: Brotherhood')"
   ]
  },
  {
   "cell_type": "code",
   "execution_count": null,
   "id": "1ebab72e",
   "metadata": {},
   "outputs": [],
   "source": [
    "new=original_df.copy()\n",
    "new.head(5)"
   ]
  },
  {
   "cell_type": "code",
   "execution_count": null,
   "id": "675be45c",
   "metadata": {},
   "outputs": [],
   "source": [
    "from sklearn.preprocessing import MinMaxScaler\n",
    "\n",
    "numerical_columns = ['score', 'members']\n",
    "\n",
    "# Remove commas from numerical columns and scale using MinMaxScaler\n",
    "new[numerical_columns] = new[numerical_columns].replace({',': ''}, regex=True)\n",
    "scaler = MinMaxScaler()\n",
    "new[numerical_columns] = scaler.fit_transform(new[numerical_columns])\n",
    "\n",
    "anime_rating = pd.concat([new['title'],new[numerical_columns]], axis=1)"
   ]
  },
  {
   "cell_type": "code",
   "execution_count": null,
   "id": "54456f62",
   "metadata": {},
   "outputs": [],
   "source": [
    "anime_rating.head(15)"
   ]
  },
  {
   "cell_type": "code",
   "execution_count": null,
   "id": "a11ed63e",
   "metadata": {},
   "outputs": [],
   "source": [
    "new_column_names = {\n",
    "    'score': 'ratings_scores',\n",
    "    'members': 'popularity_members'\n",
    "}\n",
    "\n",
    "anime_rating.rename(columns=new_column_names, inplace=True)\n",
    "anime_rating['average_ratings']=(.85*anime_rating['ratings_scores'])+(.15*anime_rating['popularity_members'])\n",
    "anime_rating.head(10)"
   ]
  },
  {
   "cell_type": "code",
   "execution_count": null,
   "id": "468264ac",
   "metadata": {},
   "outputs": [],
   "source": [
    "sorted_df = anime_rating.sort_values(by='average_ratings', ascending=False)\n",
    "sorted_df.iloc[0:50]"
   ]
  },
  {
   "cell_type": "code",
   "execution_count": null,
   "id": "1596db7e",
   "metadata": {},
   "outputs": [],
   "source": [
    "def Hybrid_recommendation(anime_title):\n",
    "    print(\"Hybrid Recommendation - \",anime_title,)\n",
    "    index = anime[anime['title'] == anime_title].index[0]\n",
    "    distances = sorted(list(enumerate(similarity[index])), reverse=True, key=lambda x: x[1])\n",
    "    hybrid_scores = []\n",
    "    similar_anime_indices = []\n",
    "\n",
    "    param=100;\n",
    "    for i, dist in distances[1:(len(distances)//param)]:\n",
    "        similar_anime_title = anime.iloc[i].title\n",
    "        similar_anime_row = anime_rating [anime_rating['title'] == similar_anime_title]\n",
    "\n",
    "        if not pd.isnull(similar_anime_row['average_ratings'].values[0]):\n",
    "            # Calculate the hybrid score using the given formula\n",
    "            hybrid_score = dist * 0.65 + similar_anime_row['average_ratings'].values[0] * 0.35\n",
    "            hybrid_scores.append((similar_anime_title, hybrid_score))\n",
    "            similar_anime_indices.append(i)\n",
    "\n",
    "    hybrid_scores.sort(key=lambda x: x[1], reverse=True)\n",
    "\n",
    "    # Print the top 10 recommended anime with their titles and hybrid scores\n",
    "    print(\"Top 10 Recommended Anime:\\n\")\n",
    "    for i, (anime_title, hybrid_score) in zip(range(1, 11), hybrid_scores):\n",
    "        print(f\"{i}. {anime_title} - (Hybrid Score: {hybrid_score:.3f})\")"
   ]
  },
  {
   "cell_type": "code",
   "execution_count": null,
   "id": "38c870e1",
   "metadata": {},
   "outputs": [],
   "source": [
    "Hybrid_recommendation('Chainsaw Man')\n",
    "print(\"\\n\")\n",
    "content_recommendation('Chainsaw Man')"
   ]
  },
  {
   "cell_type": "code",
   "execution_count": null,
   "id": "cef9a4c6",
   "metadata": {},
   "outputs": [],
   "source": [
    "Hybrid_recommendation('Death Note')\n",
    "print(\"\\n\")\n",
    "content_recommendation('Death Note')"
   ]
  },
  {
   "cell_type": "code",
   "execution_count": null,
   "id": "5d49e291",
   "metadata": {},
   "outputs": [],
   "source": [
    "Hybrid_recommendation(\"Vivy: Fluorite Eye's Song\")\n",
    "print(\"\\n\")\n",
    "content_recommendation(\"Vivy: Fluorite Eye's Song\")"
   ]
  },
  {
   "cell_type": "code",
   "execution_count": null,
   "id": "9852d717",
   "metadata": {},
   "outputs": [],
   "source": [
    "Hybrid_recommendation('Dr. Stone')\n",
    "print(\"\\n\")\n",
    "content_recommendation('Dr. Stone')"
   ]
  },
  {
   "cell_type": "code",
   "execution_count": null,
   "id": "6a8d7833",
   "metadata": {},
   "outputs": [],
   "source": [
    "Hybrid_recommendation('Tokyo Ghoul')\n",
    "print(\"\\n\")\n",
    "content_recommendation('Tokyo Ghoul')"
   ]
  },
  {
   "cell_type": "code",
   "execution_count": null,
   "id": "af7fe2af",
   "metadata": {},
   "outputs": [],
   "source": [
    "Hybrid_recommendation('One Punch Man')\n",
    "print(\"\\n\")\n",
    "content_recommendation('One Punch Man')"
   ]
  },
  {
   "cell_type": "code",
   "execution_count": null,
   "id": "1a37b0ba",
   "metadata": {},
   "outputs": [],
   "source": [
    "Hybrid_recommendation('Spy x Family')\n",
    "print(\"\\n\")\n",
    "content_recommendation('Spy x Family')"
   ]
  },
  {
   "cell_type": "code",
   "execution_count": null,
   "id": "d1479f9b",
   "metadata": {},
   "outputs": [],
   "source": [
    "Hybrid_recommendation('86')\n",
    "print(\"\\n\")\n",
    "content_recommendation('86')"
   ]
  },
  {
   "cell_type": "code",
   "execution_count": null,
   "id": "62fa3b69",
   "metadata": {},
   "outputs": [],
   "source": [
    "anime_list = ['\"Oshi no Ko\"',\"Charlotte\",\"Jujutsu Kaisen\" ]"
   ]
  },
  {
   "cell_type": "code",
   "execution_count": null,
   "id": "c118ae0e",
   "metadata": {},
   "outputs": [],
   "source": [
    "for anime_title in anime_list:\n",
    "    # Check if the anime title exists\n",
    "    if anime[anime['title'] == anime_title].empty:\n",
    "        print(f\"{anime_title} not found in the anime dataset.\\n\")\n",
    "    else:\n",
    "        print(f\"Recommendations for {anime_title}:\\n\")\n",
    "        Hybrid_recommendation(anime_title)\n",
    "        print(\"\\n\")\n",
    "        content_recommendation(anime_title)\n",
    "        print(\"\\n\" + \"=\"*50 + \"\\n\")"
   ]
  }
 ],
 "metadata": {
  "kernelspec": {
   "display_name": "Python 3 (ipykernel)",
   "language": "python",
   "name": "python3"
  },
  "language_info": {
   "codemirror_mode": {
    "name": "ipython",
    "version": 3
   },
   "file_extension": ".py",
   "mimetype": "text/x-python",
   "name": "python",
   "nbconvert_exporter": "python",
   "pygments_lexer": "ipython3",
   "version": "3.9.7"
  }
 },
 "nbformat": 4,
 "nbformat_minor": 5
}
